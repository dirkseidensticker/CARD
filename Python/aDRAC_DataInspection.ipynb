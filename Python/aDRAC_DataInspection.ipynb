{
 "cells": [
  {
   "cell_type": "markdown",
   "metadata": {},
   "source": [
    "# aDRAC-Dataset\n",
    "**Archives des datations radiocarbone d'Afrique centrale**\n",
    "* * *\n",
    "*Dirk Seidensticker*"
   ]
  },
  {
   "cell_type": "code",
   "execution_count": 2,
   "metadata": {
    "collapsed": true
   },
   "outputs": [],
   "source": [
    "%matplotlib inline\n",
    "from IPython.display import display\n",
    "import matplotlib.pyplot as plt\n",
    "import numpy as np\n",
    "import pandas as pd\n",
    "\n",
    "import sys, os\n",
    "sys.path.append(\"/Python\")\n",
    "from myfunctions import *"
   ]
  },
  {
   "cell_type": "markdown",
   "metadata": {},
   "source": [
    "Very simple and fast inspection of the dataset:"
   ]
  },
  {
   "cell_type": "code",
   "execution_count": 3,
   "metadata": {
    "collapsed": false
   },
   "outputs": [
    {
     "data": {
      "text/html": [
       "<div>\n",
       "<table border=\"1\" class=\"dataframe\">\n",
       "  <thead>\n",
       "    <tr style=\"text-align: right;\">\n",
       "      <th></th>\n",
       "      <th>LABNR</th>\n",
       "      <th>C14AGE</th>\n",
       "      <th>C14STD</th>\n",
       "      <th>C13</th>\n",
       "      <th>MATERIAL</th>\n",
       "      <th>SITE</th>\n",
       "      <th>COUNTRY</th>\n",
       "      <th>FEATURE</th>\n",
       "      <th>FEATURE_DESC</th>\n",
       "      <th>LAT</th>\n",
       "      <th>LONG</th>\n",
       "      <th>SOURCE</th>\n",
       "    </tr>\n",
       "  </thead>\n",
       "  <tbody>\n",
       "    <tr>\n",
       "      <th>0</th>\n",
       "      <td>AA-78447</td>\n",
       "      <td>2362</td>\n",
       "      <td>39</td>\n",
       "      <td>0.0</td>\n",
       "      <td>NaN</td>\n",
       "      <td>Mbaere</td>\n",
       "      <td>CAF</td>\n",
       "      <td>NaN</td>\n",
       "      <td>Pollencore</td>\n",
       "      <td>3.988639</td>\n",
       "      <td>16.924447</td>\n",
       "      <td>Kiahtipes/Lupo et al. 2011</td>\n",
       "    </tr>\n",
       "    <tr>\n",
       "      <th>1</th>\n",
       "      <td>AA-78448</td>\n",
       "      <td>2171</td>\n",
       "      <td>37</td>\n",
       "      <td>0.0</td>\n",
       "      <td>NaN</td>\n",
       "      <td>Mbaere</td>\n",
       "      <td>CAF</td>\n",
       "      <td>NaN</td>\n",
       "      <td>Pollencore</td>\n",
       "      <td>3.988639</td>\n",
       "      <td>16.924447</td>\n",
       "      <td>Kiahtipes/Lupo et al. 2011</td>\n",
       "    </tr>\n",
       "    <tr>\n",
       "      <th>2</th>\n",
       "      <td>AA-78449</td>\n",
       "      <td>834</td>\n",
       "      <td>35</td>\n",
       "      <td>0.0</td>\n",
       "      <td>NaN</td>\n",
       "      <td>Mbaere</td>\n",
       "      <td>CAF</td>\n",
       "      <td>NaN</td>\n",
       "      <td>Pollencore</td>\n",
       "      <td>3.988639</td>\n",
       "      <td>16.924447</td>\n",
       "      <td>Kiahtipes/Lupo et al. 2011</td>\n",
       "    </tr>\n",
       "    <tr>\n",
       "      <th>3</th>\n",
       "      <td>Arc-339</td>\n",
       "      <td>2310</td>\n",
       "      <td>60</td>\n",
       "      <td>0.0</td>\n",
       "      <td>Charcoal</td>\n",
       "      <td>Mont Brazza</td>\n",
       "      <td>GAB</td>\n",
       "      <td>NaN</td>\n",
       "      <td>NaN</td>\n",
       "      <td>NaN</td>\n",
       "      <td>NaN</td>\n",
       "      <td>Clist 2004/05</td>\n",
       "    </tr>\n",
       "    <tr>\n",
       "      <th>4</th>\n",
       "      <td>Arc-340</td>\n",
       "      <td>540</td>\n",
       "      <td>50</td>\n",
       "      <td>0.0</td>\n",
       "      <td>NaN</td>\n",
       "      <td>Mont Barnier</td>\n",
       "      <td>COG</td>\n",
       "      <td>NaN</td>\n",
       "      <td>NaN</td>\n",
       "      <td>-4.186390</td>\n",
       "      <td>15.200280</td>\n",
       "      <td>Pincon 1991</td>\n",
       "    </tr>\n",
       "  </tbody>\n",
       "</table>\n",
       "</div>"
      ],
      "text/plain": [
       "      LABNR  C14AGE  C14STD  C13  MATERIAL          SITE COUNTRY FEATURE  \\\n",
       "0  AA-78447    2362      39  0.0       NaN        Mbaere     CAF     NaN   \n",
       "1  AA-78448    2171      37  0.0       NaN        Mbaere     CAF     NaN   \n",
       "2  AA-78449     834      35  0.0       NaN        Mbaere     CAF     NaN   \n",
       "3   Arc-339    2310      60  0.0  Charcoal   Mont Brazza     GAB     NaN   \n",
       "4   Arc-340     540      50  0.0       NaN  Mont Barnier     COG     NaN   \n",
       "\n",
       "  FEATURE_DESC       LAT       LONG                      SOURCE  \n",
       "0   Pollencore  3.988639  16.924447  Kiahtipes/Lupo et al. 2011  \n",
       "1   Pollencore  3.988639  16.924447  Kiahtipes/Lupo et al. 2011  \n",
       "2   Pollencore  3.988639  16.924447  Kiahtipes/Lupo et al. 2011  \n",
       "3          NaN       NaN        NaN               Clist 2004/05  \n",
       "4          NaN -4.186390  15.200280                 Pincon 1991  "
      ]
     },
     "metadata": {},
     "output_type": "display_data"
    }
   ],
   "source": [
    "df = pd.read_csv(\"../data/aDRAC.csv\", encoding='utf8')\n",
    "display(df.head())"
   ]
  },
  {
   "cell_type": "markdown",
   "metadata": {},
   "source": [
    "## Dates\n",
    "\n",
    "How are the dates distributed?"
   ]
  },
  {
   "cell_type": "code",
   "execution_count": 4,
   "metadata": {
    "collapsed": false
   },
   "outputs": [
    {
     "data": {
      "image/png": "[encoded data removed]",
      "text/plain": [
       "<matplotlib.figure.Figure at 0x9066a58>"
      ]
     },
     "metadata": {},
     "output_type": "display_data"
    }
   ],
   "source": [
    "bins = df['C14AGE'].max() - df['C14AGE'].min()\n",
    "df['C14AGE'].hist(color = 'grey', bins = round(bins/1000), histtype='stepfilled', fc='#CCCCCC').invert_xaxis()\n",
    "plt.axvline(x = 1950, color='r', label = 'BC/AD')\n",
    "legend = plt.legend(loc=2)\n",
    "legend.get_frame().set_facecolor('white')"
   ]
  },
  {
   "cell_type": "code",
   "execution_count": 31,
   "metadata": {
    "collapsed": false
   },
   "outputs": [
    {
     "data": {
      "text/plain": [
       "count     1191.000000\n",
       "mean      2989.182200\n",
       "std       5330.920792\n",
       "min          0.000000\n",
       "25%        955.500000\n",
       "50%       1870.000000\n",
       "75%       2395.000000\n",
       "max      46500.000000\n",
       "Name: C14AGE, dtype: float64"
      ]
     },
     "execution_count": 31,
     "metadata": {},
     "output_type": "execute_result"
    }
   ],
   "source": [
    "df['C14AGE'].describe()"
   ]
  },
  {
   "cell_type": "markdown",
   "metadata": {},
   "source": [
    "Which sites deliver the most dates? (Top 10)"
   ]
  },
  {
   "cell_type": "code",
   "execution_count": 32,
   "metadata": {
    "collapsed": false
   },
   "outputs": [
    {
     "data": {
      "text/html": [
       "<div>\n",
       "<table border=\"1\" class=\"dataframe\">\n",
       "  <thead>\n",
       "    <tr style=\"text-align: right;\">\n",
       "      <th></th>\n",
       "      <th>SITE</th>\n",
       "      <th>len</th>\n",
       "      <th>amin</th>\n",
       "      <th>mean</th>\n",
       "      <th>amax</th>\n",
       "    </tr>\n",
       "  </thead>\n",
       "  <tbody>\n",
       "    <tr>\n",
       "      <th>142</th>\n",
       "      <td>Gombe-Point</td>\n",
       "      <td>27</td>\n",
       "      <td>220</td>\n",
       "      <td>12564.444444</td>\n",
       "      <td>46500</td>\n",
       "    </tr>\n",
       "    <tr>\n",
       "      <th>12</th>\n",
       "      <td>Akonetye</td>\n",
       "      <td>22</td>\n",
       "      <td>1685</td>\n",
       "      <td>1825.954545</td>\n",
       "      <td>2429</td>\n",
       "    </tr>\n",
       "    <tr>\n",
       "      <th>370</th>\n",
       "      <td>Oboui</td>\n",
       "      <td>21</td>\n",
       "      <td>1615</td>\n",
       "      <td>2539.761905</td>\n",
       "      <td>3995</td>\n",
       "    </tr>\n",
       "    <tr>\n",
       "      <th>75</th>\n",
       "      <td>Bwambe-Sommet (Est)</td>\n",
       "      <td>19</td>\n",
       "      <td>1760</td>\n",
       "      <td>2283.631579</td>\n",
       "      <td>2550</td>\n",
       "    </tr>\n",
       "    <tr>\n",
       "      <th>436</th>\n",
       "      <td>Shum Laka</td>\n",
       "      <td>18</td>\n",
       "      <td>40</td>\n",
       "      <td>3529.444444</td>\n",
       "      <td>8705</td>\n",
       "    </tr>\n",
       "    <tr>\n",
       "      <th>308</th>\n",
       "      <td>Mouanko-Lobethal</td>\n",
       "      <td>18</td>\n",
       "      <td>156</td>\n",
       "      <td>2434.333333</td>\n",
       "      <td>8913</td>\n",
       "    </tr>\n",
       "    <tr>\n",
       "      <th>434</th>\n",
       "      <td>Sanga</td>\n",
       "      <td>16</td>\n",
       "      <td>0</td>\n",
       "      <td>725.312500</td>\n",
       "      <td>1240</td>\n",
       "    </tr>\n",
       "    <tr>\n",
       "      <th>177</th>\n",
       "      <td>Kamoa</td>\n",
       "      <td>16</td>\n",
       "      <td>295</td>\n",
       "      <td>2386.250000</td>\n",
       "      <td>6025</td>\n",
       "    </tr>\n",
       "    <tr>\n",
       "      <th>80</th>\n",
       "      <td>Campo</td>\n",
       "      <td>15</td>\n",
       "      <td>1184</td>\n",
       "      <td>1771.933333</td>\n",
       "      <td>2000</td>\n",
       "    </tr>\n",
       "    <tr>\n",
       "      <th>375</th>\n",
       "      <td>Okala 1</td>\n",
       "      <td>15</td>\n",
       "      <td>440</td>\n",
       "      <td>4707.333333</td>\n",
       "      <td>39690</td>\n",
       "    </tr>\n",
       "  </tbody>\n",
       "</table>\n",
       "</div>"
      ],
      "text/plain": [
       "                    SITE  len  amin          mean   amax\n",
       "142          Gombe-Point   27   220  12564.444444  46500\n",
       "12              Akonetye   22  1685   1825.954545   2429\n",
       "370                Oboui   21  1615   2539.761905   3995\n",
       "75   Bwambe-Sommet (Est)   19  1760   2283.631579   2550\n",
       "436            Shum Laka   18    40   3529.444444   8705\n",
       "308     Mouanko-Lobethal   18   156   2434.333333   8913\n",
       "434                Sanga   16     0    725.312500   1240\n",
       "177                Kamoa   16   295   2386.250000   6025\n",
       "80                 Campo   15  1184   1771.933333   2000\n",
       "375              Okala 1   15   440   4707.333333  39690"
      ]
     },
     "execution_count": 32,
     "metadata": {},
     "output_type": "execute_result"
    }
   ],
   "source": [
    "df_pivot = df.pivot_table(values = 'C14AGE', index = 'SITE', aggfunc = [len, np.min, np.mean, np.max])\n",
    "df_pivot = df_pivot.reset_index()\n",
    "df_pivot = df_pivot.sort_values(by=['len'], ascending=[False])\n",
    "# display(df_pivot.head())\n",
    "df_pivot[:10]"
   ]
  },
  {
   "cell_type": "markdown",
   "metadata": {},
   "source": [
    "A distribution of the amounts of dates per site:"
   ]
  },
  {
   "cell_type": "code",
   "execution_count": 33,
   "metadata": {
    "collapsed": false
   },
   "outputs": [
    {
     "data": {
      "text/plain": [
       "<matplotlib.axes._subplots.AxesSubplot at 0x95e3e80>"
      ]
     },
     "execution_count": 33,
     "metadata": {},
     "output_type": "execute_result"
    },
    {
     "data": {
      "image/png": "[encoded data removed]",
      "text/plain": [
       "<matplotlib.figure.Figure at 0x959eeb8>"
      ]
     },
     "metadata": {},
     "output_type": "display_data"
    }
   ],
   "source": [
    "df_pivot.plot(x = 'SITE', y = 'len', legend=False)"
   ]
  },
  {
   "cell_type": "code",
   "execution_count": 34,
   "metadata": {
    "collapsed": false
   },
   "outputs": [
    {
     "data": {
      "text/plain": [
       "count    471.000000\n",
       "mean       2.528662\n",
       "std        3.165426\n",
       "min        1.000000\n",
       "25%        1.000000\n",
       "50%        1.000000\n",
       "75%        3.000000\n",
       "max       27.000000\n",
       "Name: len, dtype: float64"
      ]
     },
     "execution_count": 34,
     "metadata": {},
     "output_type": "execute_result"
    }
   ],
   "source": [
    "df_pivot['len'].describe()"
   ]
  },
  {
   "cell_type": "markdown",
   "metadata": {},
   "source": [
    "How to get the amount of dates per site and feature:"
   ]
  },
  {
   "cell_type": "code",
   "execution_count": 35,
   "metadata": {
    "collapsed": false
   },
   "outputs": [
    {
     "data": {
      "text/html": [
       "<div>\n",
       "<table border=\"1\" class=\"dataframe\">\n",
       "  <thead>\n",
       "    <tr style=\"text-align: right;\">\n",
       "      <th></th>\n",
       "      <th></th>\n",
       "      <th>len</th>\n",
       "      <th>amin</th>\n",
       "      <th>mean</th>\n",
       "      <th>amax</th>\n",
       "    </tr>\n",
       "    <tr>\n",
       "      <th>SITE</th>\n",
       "      <th>FEATURE</th>\n",
       "      <th></th>\n",
       "      <th></th>\n",
       "      <th></th>\n",
       "      <th></th>\n",
       "    </tr>\n",
       "  </thead>\n",
       "  <tbody>\n",
       "    <tr>\n",
       "      <th rowspan=\"2\" valign=\"top\">Abang Minko'o</th>\n",
       "      <th>ABM 06/1</th>\n",
       "      <td>2</td>\n",
       "      <td>2236</td>\n",
       "      <td>2253.000000</td>\n",
       "      <td>2270</td>\n",
       "    </tr>\n",
       "    <tr>\n",
       "      <th>ABM 06/2</th>\n",
       "      <td>4</td>\n",
       "      <td>2181</td>\n",
       "      <td>2228.500000</td>\n",
       "      <td>2286</td>\n",
       "    </tr>\n",
       "    <tr>\n",
       "      <th rowspan=\"8\" valign=\"top\">Akonetye</th>\n",
       "      <th>AKO 04/2</th>\n",
       "      <td>2</td>\n",
       "      <td>1685</td>\n",
       "      <td>1727.500000</td>\n",
       "      <td>1770</td>\n",
       "    </tr>\n",
       "    <tr>\n",
       "      <th>AKO 04/3</th>\n",
       "      <td>1</td>\n",
       "      <td>1755</td>\n",
       "      <td>1755.000000</td>\n",
       "      <td>1755</td>\n",
       "    </tr>\n",
       "    <tr>\n",
       "      <th>AKO 05/2</th>\n",
       "      <td>3</td>\n",
       "      <td>1692</td>\n",
       "      <td>1749.333333</td>\n",
       "      <td>1787</td>\n",
       "    </tr>\n",
       "    <tr>\n",
       "      <th>AKO 05/3</th>\n",
       "      <td>1</td>\n",
       "      <td>1747</td>\n",
       "      <td>1747.000000</td>\n",
       "      <td>1747</td>\n",
       "    </tr>\n",
       "    <tr>\n",
       "      <th>AKO 05/4</th>\n",
       "      <td>2</td>\n",
       "      <td>1718</td>\n",
       "      <td>1718.500000</td>\n",
       "      <td>1719</td>\n",
       "    </tr>\n",
       "    <tr>\n",
       "      <th>AKO 05/5</th>\n",
       "      <td>1</td>\n",
       "      <td>1815</td>\n",
       "      <td>1815.000000</td>\n",
       "      <td>1815</td>\n",
       "    </tr>\n",
       "    <tr>\n",
       "      <th>AKO 05/6</th>\n",
       "      <td>5</td>\n",
       "      <td>1771</td>\n",
       "      <td>1959.400000</td>\n",
       "      <td>2429</td>\n",
       "    </tr>\n",
       "    <tr>\n",
       "      <th>AKO 05/8</th>\n",
       "      <td>1</td>\n",
       "      <td>1779</td>\n",
       "      <td>1779.000000</td>\n",
       "      <td>1779</td>\n",
       "    </tr>\n",
       "  </tbody>\n",
       "</table>\n",
       "</div>"
      ],
      "text/plain": [
       "                        len  amin         mean  amax\n",
       "SITE          FEATURE                               \n",
       "Abang Minko'o ABM 06/1    2  2236  2253.000000  2270\n",
       "              ABM 06/2    4  2181  2228.500000  2286\n",
       "Akonetye      AKO 04/2    2  1685  1727.500000  1770\n",
       "              AKO 04/3    1  1755  1755.000000  1755\n",
       "              AKO 05/2    3  1692  1749.333333  1787\n",
       "              AKO 05/3    1  1747  1747.000000  1747\n",
       "              AKO 05/4    2  1718  1718.500000  1719\n",
       "              AKO 05/5    1  1815  1815.000000  1815\n",
       "              AKO 05/6    5  1771  1959.400000  2429\n",
       "              AKO 05/8    1  1779  1779.000000  1779"
      ]
     },
     "execution_count": 35,
     "metadata": {},
     "output_type": "execute_result"
    }
   ],
   "source": [
    "df_pivot = df.pivot_table(values = 'C14AGE', index = ['SITE', 'FEATURE'], aggfunc = [len, np.min, np.mean, np.max])\n",
    "df_pivot[:10]"
   ]
  },
  {
   "cell_type": "markdown",
   "metadata": {},
   "source": [
    "## Features\n",
    "\n",
    "What kinds of features are represented within the dataset?"
   ]
  },
  {
   "cell_type": "code",
   "execution_count": 36,
   "metadata": {
    "collapsed": false
   },
   "outputs": [
    {
     "data": {
      "text/plain": [
       "FEATURE_DESC\n",
       "Burial               36\n",
       "Deposit               2\n",
       "Ditch                 1\n",
       "Furnace              17\n",
       "Geologic Profile      2\n",
       "Pit                 149\n",
       "Pollencore           11\n",
       "Surface               2\n",
       "Trench               50\n",
       "Name: C14AGE, dtype: int64"
      ]
     },
     "execution_count": 36,
     "metadata": {},
     "output_type": "execute_result"
    }
   ],
   "source": [
    "df.pivot_table(values = 'C14AGE', index = ['FEATURE_DESC'], aggfunc = len)"
   ]
  },
  {
   "cell_type": "markdown",
   "metadata": {},
   "source": [
    "## Geographical distribution\n",
    "\n",
    "What area does the dataset cover?"
   ]
  },
  {
   "cell_type": "markdown",
   "metadata": {},
   "source": [
    "As decimal degrees:"
   ]
  },
  {
   "cell_type": "code",
   "execution_count": 46,
   "metadata": {
    "collapsed": false
   },
   "outputs": [
    {
     "data": {
      "text/plain": [
       "X/LONG - Max    30.683333\n",
       "X/LONG - Min    -9.153600\n",
       "Y/LAT - Max     18.361900\n",
       "Y/LAT - Min    -15.270437\n",
       "dtype: float64"
      ]
     },
     "execution_count": 46,
     "metadata": {},
     "output_type": "execute_result"
    }
   ],
   "source": [
    "pd.Series({'X/LONG - Min':np.min(df['LONG']),\n",
    "           'X/LONG - Max':np.max(df['LONG']),\n",
    "           'Y/LAT - Min':np.min(df['LAT']),\n",
    "           'Y/LAT - Max':np.max(df['LAT'])})"
   ]
  },
  {
   "cell_type": "markdown",
   "metadata": {},
   "source": [
    "As degree/minute/second:"
   ]
  },
  {
   "cell_type": "code",
   "execution_count": 47,
   "metadata": {
    "collapsed": false
   },
   "outputs": [
    {
     "data": {
      "text/plain": [
       "X/LONG - Max     30º 40' 59.99'' E\n",
       "X/LONG - Min      -9º 9' 12.96'' W\n",
       "Y/LAT - Max      18º 21' 42.84'' N\n",
       "Y/LAT - Min     -15º 16' 13.57'' S\n",
       "dtype: object"
      ]
     },
     "execution_count": 47,
     "metadata": {},
     "output_type": "execute_result"
    }
   ],
   "source": [
    "pd.Series({'X/LONG - Min':decimalDegrees2DMS(np.min(df['LONG']), 'Longitude'),\n",
    "           'X/LONG - Max':decimalDegrees2DMS(np.max(df['LONG']), 'Longitude'),\n",
    "           'Y/LAT - Min':decimalDegrees2DMS(np.min(df['LAT']), 'Latitude'),\n",
    "           'Y/LAT - Max':decimalDegrees2DMS(np.max(df['LAT']), 'Latitude')})"
   ]
  },
  {
   "cell_type": "markdown",
   "metadata": {},
   "source": [
    "How many dates per country?"
   ]
  },
  {
   "cell_type": "code",
   "execution_count": 55,
   "metadata": {
    "collapsed": false
   },
   "outputs": [
    {
     "data": {
      "text/html": [
       "<div>\n",
       "<table border=\"1\" class=\"dataframe\">\n",
       "  <thead>\n",
       "    <tr style=\"text-align: right;\">\n",
       "      <th></th>\n",
       "      <th>COUNTRY</th>\n",
       "      <th>len</th>\n",
       "    </tr>\n",
       "  </thead>\n",
       "  <tbody>\n",
       "    <tr>\n",
       "      <th>3</th>\n",
       "      <td>CMR</td>\n",
       "      <td>376</td>\n",
       "    </tr>\n",
       "    <tr>\n",
       "      <th>6</th>\n",
       "      <td>GAB</td>\n",
       "      <td>252</td>\n",
       "    </tr>\n",
       "    <tr>\n",
       "      <th>4</th>\n",
       "      <td>COD</td>\n",
       "      <td>179</td>\n",
       "    </tr>\n",
       "    <tr>\n",
       "      <th>5</th>\n",
       "      <td>COG</td>\n",
       "      <td>138</td>\n",
       "    </tr>\n",
       "    <tr>\n",
       "      <th>2</th>\n",
       "      <td>CAF</td>\n",
       "      <td>104</td>\n",
       "    </tr>\n",
       "    <tr>\n",
       "      <th>9</th>\n",
       "      <td>RWA</td>\n",
       "      <td>37</td>\n",
       "    </tr>\n",
       "    <tr>\n",
       "      <th>0</th>\n",
       "      <td>AGO</td>\n",
       "      <td>33</td>\n",
       "    </tr>\n",
       "    <tr>\n",
       "      <th>8</th>\n",
       "      <td>GNQ</td>\n",
       "      <td>19</td>\n",
       "    </tr>\n",
       "    <tr>\n",
       "      <th>1</th>\n",
       "      <td>BDI</td>\n",
       "      <td>12</td>\n",
       "    </tr>\n",
       "    <tr>\n",
       "      <th>10</th>\n",
       "      <td>TCD</td>\n",
       "      <td>3</td>\n",
       "    </tr>\n",
       "    <tr>\n",
       "      <th>7</th>\n",
       "      <td>GHA</td>\n",
       "      <td>1</td>\n",
       "    </tr>\n",
       "  </tbody>\n",
       "</table>\n",
       "</div>"
      ],
      "text/plain": [
       "   COUNTRY  len\n",
       "3      CMR  376\n",
       "6      GAB  252\n",
       "4      COD  179\n",
       "5      COG  138\n",
       "2      CAF  104\n",
       "9      RWA   37\n",
       "0      AGO   33\n",
       "8      GNQ   19\n",
       "1      BDI   12\n",
       "10     TCD    3\n",
       "7      GHA    1"
      ]
     },
     "execution_count": 55,
     "metadata": {},
     "output_type": "execute_result"
    }
   ],
   "source": [
    "df_pivot = df.pivot_table(values = 'C14AGE', index = 'COUNTRY', aggfunc = [len])\n",
    "df_pivot = df_pivot.reset_index()\n",
    "df_pivot = df_pivot.sort_values(by=['len'], ascending=[False])\n",
    "# display(df_pivot.head())\n",
    "df_pivot"
   ]
  },
  {
   "cell_type": "code",
   "execution_count": null,
   "metadata": {
    "collapsed": true
   },
   "outputs": [],
   "source": []
  }
 ],
 "metadata": {
  "kernelspec": {
   "display_name": "Python 3",
   "language": "python",
   "name": "python3"
  },
  "language_info": {
   "codemirror_mode": {
    "name": "ipython",
    "version": 3
   },
   "file_extension": ".py",
   "mimetype": "text/x-python",
   "name": "python",
   "nbconvert_exporter": "python",
   "pygments_lexer": "ipython3",
   "version": "3.4.4"
  }
 },
 "nbformat": 4,
 "nbformat_minor": 0
}
