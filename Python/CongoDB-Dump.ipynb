{
 "cells": [
  {
   "cell_type": "markdown",
   "metadata": {},
   "source": [
    "# Dump from CongoDB"
   ]
  },
  {
   "cell_type": "code",
   "execution_count": 37,
   "metadata": {
    "collapsed": false
   },
   "outputs": [],
   "source": [
    "%matplotlib inline\n",
    "from IPython.display import display\n",
    "import pandas as pd\n",
    "import sqlite3\n",
    "\n",
    "con = sqlite3.connect(\"../../../Dissertation/data/CongoDB.sqlite\")"
   ]
  },
  {
   "cell_type": "markdown",
   "metadata": {},
   "source": [
    "Retriev entries from the DB that originate from public available sources:"
   ]
  },
  {
   "cell_type": "code",
   "execution_count": 38,
   "metadata": {
    "collapsed": false
   },
   "outputs": [
    {
     "data": {
      "text/plain": [
       "1191"
      ]
     },
     "execution_count": 38,
     "metadata": {},
     "output_type": "execute_result"
    }
   ],
   "source": [
    "sql = \"\"\"SELECT\n",
    "           t_14C.LABNR,\n",
    "           t_14C.C14AGE,\n",
    "           t_14C.C14STD,\n",
    "           t_14C.C13,\n",
    "           t_14C.MATERIAL,\n",
    "           't_Ort'.'ort_name' AS SITE,\n",
    "           t_Ort.ort_land AS COUNTRY, \n",
    "           't_ort'.'ort_kurz' || ' ' || 't_komplex'.'bef_nr' AS FEATURE,\n",
    "           t_komplex.feature_type AS FEATURE_DESC,\n",
    "           t_Ort.y_lat AS LAT,\n",
    "           t_Ort.x_long AS LONG,\n",
    "           t_14C.Lit AS SOURCE\n",
    "       FROM (t_Ort INNER JOIN t_Komplex ON t_Ort.ortID = t_Komplex.ortID)\n",
    "           INNER JOIN t_14c ON t_Komplex.komplexID = t_14c.komplexID\n",
    "       WHERE (((t_14C.Lit) Not Like '%Ordner%')\n",
    "           AND ((t_14C.Lit) != ''))\"\"\".replace('\\n',' ')\n",
    "\n",
    "df = pd.read_sql(sql, con)\n",
    "len(df)"
   ]
  },
  {
   "cell_type": "markdown",
   "metadata": {},
   "source": [
    "Review the top of the Dataset:"
   ]
  },
  {
   "cell_type": "code",
   "execution_count": 39,
   "metadata": {
    "collapsed": false
   },
   "outputs": [
    {
     "data": {
      "text/html": [
       "<div>\n",
       "<table border=\"1\" class=\"dataframe\">\n",
       "  <thead>\n",
       "    <tr style=\"text-align: right;\">\n",
       "      <th></th>\n",
       "      <th>LABNR</th>\n",
       "      <th>C14AGE</th>\n",
       "      <th>C14STD</th>\n",
       "      <th>C13</th>\n",
       "      <th>MATERIAL</th>\n",
       "      <th>SITE</th>\n",
       "      <th>COUNTRY</th>\n",
       "      <th>FEATURE</th>\n",
       "      <th>FEATURE_DESC</th>\n",
       "      <th>LAT</th>\n",
       "      <th>LONG</th>\n",
       "      <th>SOURCE</th>\n",
       "    </tr>\n",
       "  </thead>\n",
       "  <tbody>\n",
       "    <tr>\n",
       "      <th>0</th>\n",
       "      <td>Bdy-306</td>\n",
       "      <td>1990</td>\n",
       "      <td>210</td>\n",
       "      <td>0.0</td>\n",
       "      <td>None</td>\n",
       "      <td>Batalimo</td>\n",
       "      <td>CAF</td>\n",
       "      <td>None</td>\n",
       "      <td>Trench</td>\n",
       "      <td>3.675942</td>\n",
       "      <td>18.455022</td>\n",
       "      <td>Zangato 2000</td>\n",
       "    </tr>\n",
       "    <tr>\n",
       "      <th>1</th>\n",
       "      <td>Gif-5894</td>\n",
       "      <td>1590</td>\n",
       "      <td>90</td>\n",
       "      <td>0.0</td>\n",
       "      <td>Charcoal</td>\n",
       "      <td>Batalimo</td>\n",
       "      <td>CAF</td>\n",
       "      <td>None</td>\n",
       "      <td>Trench</td>\n",
       "      <td>3.675942</td>\n",
       "      <td>18.455022</td>\n",
       "      <td>de Maret 1985, Eggert 1993</td>\n",
       "    </tr>\n",
       "    <tr>\n",
       "      <th>2</th>\n",
       "      <td>OxTL-154a-4</td>\n",
       "      <td>1570</td>\n",
       "      <td>220</td>\n",
       "      <td>0.0</td>\n",
       "      <td>None</td>\n",
       "      <td>Batalimo</td>\n",
       "      <td>CAF</td>\n",
       "      <td>None</td>\n",
       "      <td>Trench</td>\n",
       "      <td>3.675942</td>\n",
       "      <td>18.455022</td>\n",
       "      <td>de Bayle des Hermens 1975, 233; Eggert 1987</td>\n",
       "    </tr>\n",
       "    <tr>\n",
       "      <th>3</th>\n",
       "      <td>KI-2893</td>\n",
       "      <td>1960</td>\n",
       "      <td>90</td>\n",
       "      <td>-27.1</td>\n",
       "      <td>Charcoal</td>\n",
       "      <td>Likwala-Esobe km 186</td>\n",
       "      <td>COG</td>\n",
       "      <td>LKW 186 87/186</td>\n",
       "      <td>Pit</td>\n",
       "      <td>-0.048312</td>\n",
       "      <td>17.406785</td>\n",
       "      <td>Eggert 1993</td>\n",
       "    </tr>\n",
       "    <tr>\n",
       "      <th>4</th>\n",
       "      <td>KI-2881</td>\n",
       "      <td>1990</td>\n",
       "      <td>45</td>\n",
       "      <td>-25.1</td>\n",
       "      <td>Elaeis guineensis</td>\n",
       "      <td>Munda</td>\n",
       "      <td>COG</td>\n",
       "      <td>MUN 87/2-1-1</td>\n",
       "      <td>Furnace</td>\n",
       "      <td>1.162608</td>\n",
       "      <td>17.356948</td>\n",
       "      <td>Eggert 1993</td>\n",
       "    </tr>\n",
       "  </tbody>\n",
       "</table>\n",
       "</div>"
      ],
      "text/plain": [
       "         LABNR  C14AGE  C14STD   C13           MATERIAL                  SITE  \\\n",
       "0      Bdy-306    1990     210   0.0               None              Batalimo   \n",
       "1     Gif-5894    1590      90   0.0           Charcoal              Batalimo   \n",
       "2  OxTL-154a-4    1570     220   0.0               None              Batalimo   \n",
       "3      KI-2893    1960      90 -27.1           Charcoal  Likwala-Esobe km 186   \n",
       "4      KI-2881    1990      45 -25.1  Elaeis guineensis                 Munda   \n",
       "\n",
       "  COUNTRY         FEATURE FEATURE_DESC       LAT       LONG  \\\n",
       "0     CAF            None       Trench  3.675942  18.455022   \n",
       "1     CAF            None       Trench  3.675942  18.455022   \n",
       "2     CAF            None       Trench  3.675942  18.455022   \n",
       "3     COG  LKW 186 87/186          Pit -0.048312  17.406785   \n",
       "4     COG    MUN 87/2-1-1      Furnace  1.162608  17.356948   \n",
       "\n",
       "                                        SOURCE  \n",
       "0                                 Zangato 2000  \n",
       "1                   de Maret 1985, Eggert 1993  \n",
       "2  de Bayle des Hermens 1975, 233; Eggert 1987  \n",
       "3                                  Eggert 1993  \n",
       "4                                  Eggert 1993  "
      ]
     },
     "metadata": {},
     "output_type": "display_data"
    }
   ],
   "source": [
    "display(df.head())"
   ]
  },
  {
   "cell_type": "markdown",
   "metadata": {},
   "source": [
    "Save table to CSV-Format:"
   ]
  },
  {
   "cell_type": "code",
   "execution_count": 40,
   "metadata": {
    "collapsed": false
   },
   "outputs": [],
   "source": [
    "df.to_csv(\"../data/CARD.csv\", index=False, encoding='utf8')"
   ]
  },
  {
   "cell_type": "code",
   "execution_count": null,
   "metadata": {
    "collapsed": true
   },
   "outputs": [],
   "source": []
  }
 ],
 "metadata": {
  "kernelspec": {
   "display_name": "Python 3",
   "language": "python",
   "name": "python3"
  },
  "language_info": {
   "codemirror_mode": {
    "name": "ipython",
    "version": 3
   },
   "file_extension": ".py",
   "mimetype": "text/x-python",
   "name": "python",
   "nbconvert_exporter": "python",
   "pygments_lexer": "ipython3",
   "version": "3.4.4"
  }
 },
 "nbformat": 4,
 "nbformat_minor": 0
}
